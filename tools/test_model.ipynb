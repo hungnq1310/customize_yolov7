{
 "cells": [
  {
   "cell_type": "code",
   "execution_count": 1,
   "metadata": {},
   "outputs": [
    {
     "name": "stderr",
     "output_type": "stream",
     "text": [
      "/home/hungnq/anaconda3/envs/torch/lib/python3.10/site-packages/tqdm/auto.py:21: TqdmWarning: IProgress not found. Please update jupyter and ipywidgets. See https://ipywidgets.readthedocs.io/en/stable/user_install.html\n",
      "  from .autonotebook import tqdm as notebook_tqdm\n",
      "/home/hungnq/anaconda3/envs/torch/lib/python3.10/site-packages/requests/__init__.py:102: RequestsDependencyWarning: urllib3 (1.26.13) or chardet (5.2.0)/charset_normalizer (2.0.12) doesn't match a supported version!\n",
      "  warnings.warn(\"urllib3 ({}) or chardet ({})/charset_normalizer ({}) doesn't match a supported \"\n"
     ]
    }
   ],
   "source": [
    "from models.yolo import Model"
   ]
  },
  {
   "cell_type": "markdown",
   "metadata": {},
   "source": [
    "## Model"
   ]
  },
  {
   "cell_type": "code",
   "execution_count": null,
   "metadata": {},
   "outputs": [],
   "source": [
    "# import torch\n",
    "\n",
    "# weights = \"/home/hungnq/hungnq_2/yolov7/weights/yolov7.pt\"\n",
    "# ckpt = torch.load(weights, map_location=\"cpu\")\n",
    "# ckpt"
   ]
  },
  {
   "cell_type": "code",
   "execution_count": 1,
   "metadata": {},
   "outputs": [],
   "source": [
    "# model = Model(\n",
    "#     cfg='/home/hungnq/hungnq_2/yolov7/cfg/training/yolov7.yaml', \n",
    "#     ch=3, \n",
    "#     nc_per_head=[20,10], \n",
    "# )\n",
    "# model "
   ]
  },
  {
   "cell_type": "code",
   "execution_count": 11,
   "metadata": {},
   "outputs": [
    {
     "data": {
      "text/plain": [
       "True"
      ]
     },
     "execution_count": 11,
     "metadata": {},
     "output_type": "execute_result"
    }
   ],
   "source": [
    "a = True | False\n",
    "a"
   ]
  },
  {
   "cell_type": "code",
   "execution_count": null,
   "metadata": {},
   "outputs": [],
   "source": [
    "a =[0, 5, 2, 6, 8, 5, 1, 3]\n",
    "a[-2:]"
   ]
  },
  {
   "cell_type": "code",
   "execution_count": null,
   "metadata": {},
   "outputs": [],
   "source": [
    "from utils.torch_utils import intersect_dicts\n",
    "\n",
    "state_dict = ckpt['model'].float().state_dict()  # to FP32\n",
    "state_dict = intersect_dicts(state_dict, model.state_dict())  # intersect\n",
    "model.load_state_dict(state_dict, strict=False)  # load"
   ]
  },
  {
   "cell_type": "code",
   "execution_count": null,
   "metadata": {},
   "outputs": [],
   "source": [
    "device = torch.device(\"cuda:0\" if torch.cuda.is_available() else \"cpu\")\n",
    "with open('data/hyp.scratch.mask.yaml') as f:\n",
    "    hyp = yaml.load(f, Loader=yaml.FullLoader)\n",
    "weigths = torch.load('yolov7-mask.pt')\n",
    "model = weigths['model']\n",
    "model = model.half().to(device)\n",
    "_ = model.eval()"
   ]
  },
  {
   "cell_type": "markdown",
   "metadata": {},
   "source": [
    "## dataset"
   ]
  },
  {
   "cell_type": "code",
   "execution_count": 2,
   "metadata": {},
   "outputs": [],
   "source": [
    "import torch\n",
    "import os\n",
    "\n",
    "from utils.torch_utils import ModelEMA, select_device, intersect_dicts, torch_distributed_zero_first, is_parallel\n",
    "from utils.datasets import LoadImagesAndLabels, InfiniteDataLoader\n",
    "\n",
    "def create_dataloader(path, imgsz, batch_size, stride, opt, hyp=None, augment=False, cache=False, pad=0.0, rect=False,\n",
    "                      rank=-1, world_size=1, workers=8, image_weights=False, quad=False, prefix=''):\n",
    "    # Make sure only the first process in DDP process the dataset first, and the following others can use the cache\n",
    "    with torch_distributed_zero_first(rank):\n",
    "        dataset = LoadImagesAndLabels(path, imgsz, batch_size,\n",
    "                                      augment=augment,  # augment images\n",
    "                                      hyp=hyp,  # augmentation hyperparameters\n",
    "                                      rect=rect,  # rectangular training\n",
    "                                      cache_images=cache,\n",
    "                                      single_cls=opt['single_cls'],\n",
    "                                      stride=int(stride),\n",
    "                                      pad=pad,\n",
    "                                      image_weights=image_weights,\n",
    "                                      prefix=prefix)\n",
    "\n",
    "    batch_size = min(batch_size, len(dataset))\n",
    "    nw = min([os.cpu_count() // world_size, batch_size if batch_size > 1 else 0, workers])  # number of workers\n",
    "    sampler = torch.utils.data.distributed.DistributedSampler(dataset) if rank != -1 else None\n",
    "    loader = torch.utils.data.DataLoader if image_weights else InfiniteDataLoader\n",
    "    # Use torch.utils.data.DataLoader() if dataset.properties will update during training else InfiniteDataLoader()\n",
    "    dataloader = loader(dataset,\n",
    "                        batch_size=batch_size,\n",
    "                        num_workers=nw,\n",
    "                        sampler=sampler,\n",
    "                        pin_memory=True,\n",
    "                        collate_fn=LoadImagesAndLabels.collate_fn4 if quad else LoadImagesAndLabels.collate_fn)\n",
    "    return dataloader, dataset\n"
   ]
  },
  {
   "cell_type": "code",
   "execution_count": 3,
   "metadata": {},
   "outputs": [],
   "source": [
    "opt = {\n",
    "    'batch_size': 16,\n",
    "    'data': 'data/coco.yaml',\n",
    "    'hyp': '/home/hungnq/hungnq_2/yolov7/data/hyp.scratch.p5.yaml',\n",
    "    'img_size': [640, 640],\n",
    "    'multi_scale': False,\n",
    "    'noautoanchor': False,\n",
    "    'nosave': False,\n",
    "    'notest': False,\n",
    "    'rect': False,\n",
    "    'resume': False,\n",
    "    'single_cls': False,\n",
    "    'world_size': 1\n",
    "}"
   ]
  },
  {
   "cell_type": "code",
   "execution_count": 4,
   "metadata": {},
   "outputs": [
    {
     "name": "stderr",
     "output_type": "stream",
     "text": [
      "\u001b[34m\u001b[1mval: \u001b[0mScanning '/home/hungnq/hungnq_2/yolov7/coco/labels/test2017.cache' images and labels... 122218 found, 41739 missing, 0 empty, 0 corrupted: 100%|██████████| 163957/163957 [00:00<?, ?it/s]\n"
     ]
    }
   ],
   "source": [
    "import yaml\n",
    "from utils.general import colorstr\n",
    "\n",
    "\n",
    "# Hyperparameters\n",
    "with open(opt['hyp']) as f:\n",
    "    hyp = yaml.load(f, Loader=yaml.SafeLoader)  # load hyps\n",
    "\n",
    "gs = 32\n",
    "\n",
    "dataloader, dataset = create_dataloader(\n",
    "    '/home/hungnq/hungnq_2/yolov7/coco/images', \n",
    "    640, 16, gs, \n",
    "    opt, hyp=hyp, augment=True, rect=False, rank=-1,\n",
    "    world_size=1, workers=2, quad=False, prefix=colorstr('val: ')\n",
    ")"
   ]
  },
  {
   "cell_type": "code",
   "execution_count": 5,
   "metadata": {},
   "outputs": [
    {
     "data": {
      "text/plain": [
       "[tensor([[[[180, 179, 180,  ...,  74,  73,  71],\n",
       "           [181, 181, 182,  ...,  70,  68,  69],\n",
       "           [183, 182, 183,  ...,  72,  72,  71],\n",
       "           ...,\n",
       "           [118,  91,  69,  ...,  68,  59,  63],\n",
       "           [125, 111,  74,  ...,  66,  56,  57],\n",
       "           [137, 134,  82,  ...,  62,  53,  50]],\n",
       " \n",
       "          [[170, 169, 170,  ...,  77,  76,  74],\n",
       "           [171, 170, 171,  ...,  74,  72,  72],\n",
       "           [171, 170, 171,  ...,  76,  77,  75],\n",
       "           ...,\n",
       "           [116,  89,  66,  ...,  75,  65,  55],\n",
       "           [123, 109,  71,  ...,  76,  66,  54],\n",
       "           [134, 132,  79,  ...,  75,  66,  54]],\n",
       " \n",
       "          [[160, 158, 158,  ...,  80,  78,  77],\n",
       "           [161, 159, 159,  ...,  76,  74,  75],\n",
       "           [161, 158, 159,  ...,  75,  76,  73],\n",
       "           ...,\n",
       "           [110,  82,  58,  ...,  70,  61,  55],\n",
       "           [117, 101,  62,  ...,  72,  62,  51],\n",
       "           [127, 124,  71,  ...,  72,  61,  47]]],\n",
       " \n",
       " \n",
       "         [[[ 98,  97,  92,  ..., 114, 119, 127],\n",
       "           [103, 100,  99,  ..., 113, 116, 124],\n",
       "           [118, 116, 115,  ..., 110, 114, 123],\n",
       "           ...,\n",
       "           [ 38,  38,  38,  ...,  64,  62,  65],\n",
       "           [ 38,  38,  38,  ...,  62,  64,  64],\n",
       "           [ 38,  38,  38,  ...,  63,  65,  64]],\n",
       " \n",
       "          [[106, 104, 100,  ...,  99, 102, 108],\n",
       "           [101, 102, 102,  ...,  99, 101, 106],\n",
       "           [104, 100,  99,  ...,  97, 101, 105],\n",
       "           ...,\n",
       "           [ 38,  38,  38,  ...,  63,  61,  64],\n",
       "           [ 38,  38,  38,  ...,  62,  63,  63],\n",
       "           [ 38,  38,  38,  ...,  64,  66,  64]],\n",
       " \n",
       "          [[ 97,  95,  92,  ...,  91,  93,  90],\n",
       "           [ 94,  94,  96,  ...,  95,  92,  83],\n",
       "           [ 86,  82,  82,  ...,  89,  86,  85],\n",
       "           ...,\n",
       "           [ 35,  35,  35,  ...,  70,  67,  69],\n",
       "           [ 35,  35,  35,  ...,  71,  70,  70],\n",
       "           [ 35,  35,  35,  ...,  71,  72,  70]]],\n",
       " \n",
       " \n",
       "         [[[104, 104, 104,  ...,  96,  95,  95],\n",
       "           [104, 104, 104,  ...,  95,  95,  95],\n",
       "           [105, 105, 104,  ...,  95,  95,  95],\n",
       "           ...,\n",
       "           [ 28,  28,  26,  ..., 129, 132, 130],\n",
       "           [ 28,  28,  27,  ..., 129, 131, 129],\n",
       "           [ 28,  27,  28,  ..., 127, 128, 127]],\n",
       " \n",
       "          [[103, 103, 103,  ...,  72,  72,  72],\n",
       "           [103, 103, 103,  ...,  72,  72,  72],\n",
       "           [103, 103, 103,  ...,  71,  72,  72],\n",
       "           ...,\n",
       "           [ 12,  12,  13,  ..., 127, 130, 130],\n",
       "           [ 12,  12,  12,  ..., 127, 129, 129],\n",
       "           [ 13,  14,  13,  ..., 125, 128, 127]],\n",
       " \n",
       "          [[ 94,  94,  94,  ...,  60,  59,  59],\n",
       "           [ 94,  94,  94,  ...,  59,  59,  59],\n",
       "           [ 94,  94,  94,  ...,  59,  59,  59],\n",
       "           ...,\n",
       "           [  6,   2,   4,  ..., 110, 114, 114],\n",
       "           [  5,   4,   3,  ..., 112, 114, 112],\n",
       "           [  6,   4,   3,  ..., 111, 113, 112]]],\n",
       " \n",
       " \n",
       "         ...,\n",
       " \n",
       " \n",
       "         [[[150, 148, 160,  ..., 169, 170, 170],\n",
       "           [159, 153, 158,  ..., 172, 172, 173],\n",
       "           [157, 159, 159,  ..., 175, 175, 176],\n",
       "           ...,\n",
       "           [164, 167, 167,  ...,  41,  45,  46],\n",
       "           [163, 170, 167,  ...,  49,  50,  50],\n",
       "           [160, 167, 164,  ...,  54,  55,  55]],\n",
       " \n",
       "          [[156, 153, 165,  ..., 173, 174, 175],\n",
       "           [164, 158, 164,  ..., 175, 175, 176],\n",
       "           [165, 166, 166,  ..., 177, 177, 178],\n",
       "           ...,\n",
       "           [160, 163, 163,  ...,  31,  35,  37],\n",
       "           [159, 166, 163,  ...,  38,  40,  40],\n",
       "           [157, 163, 160,  ...,  44,  45,  45]],\n",
       " \n",
       "          [[164, 162, 170,  ..., 178, 178, 179],\n",
       "           [171, 166, 170,  ..., 179, 179, 180],\n",
       "           [171, 172, 172,  ..., 181, 181, 182],\n",
       "           ...,\n",
       "           [155, 158, 158,  ...,  31,  35,  36],\n",
       "           [154, 162, 158,  ...,  38,  39,  40],\n",
       "           [151, 158, 155,  ...,  43,  44,  45]]],\n",
       " \n",
       " \n",
       "         [[[163, 163, 163,  ...,  19,  19,  20],\n",
       "           [164, 164, 163,  ...,  19,  19,  19],\n",
       "           [168, 169, 167,  ...,  19,  19,  19],\n",
       "           ...,\n",
       "           [ 94,  87,  84,  ..., 202, 202, 201],\n",
       "           [106,  84,  73,  ..., 188, 188, 191],\n",
       "           [ 96,  95,  91,  ..., 191, 191, 191]],\n",
       " \n",
       "          [[190, 189, 189,  ...,  19,  19,  20],\n",
       "           [189, 189, 189,  ...,  19,  19,  19],\n",
       "           [187, 188, 189,  ...,  19,  19,  19],\n",
       "           ...,\n",
       "           [135, 126, 122,  ..., 208, 209, 210],\n",
       "           [144, 123, 109,  ..., 198, 199, 201],\n",
       "           [138, 130, 119,  ..., 206, 204, 204]],\n",
       " \n",
       "          [[226, 227, 227,  ...,  19,  19,  20],\n",
       "           [226, 228, 228,  ...,  19,  19,  19],\n",
       "           [226, 227, 227,  ...,  19,  19,  19],\n",
       "           ...,\n",
       "           [ 63,  73,  78,  ..., 231, 231, 232],\n",
       "           [ 85,  86,  83,  ..., 223, 224, 226],\n",
       "           [ 73,  85,  87,  ..., 248, 248, 248]]],\n",
       " \n",
       " \n",
       "         [[[ 81,  78,  75,  ..., 102, 102, 102],\n",
       "           [ 82,  78,  76,  ..., 102, 103, 103],\n",
       "           [ 79,  76,  75,  ..., 103, 103, 103],\n",
       "           ...,\n",
       "           [126, 126, 126,  ..., 117, 119, 112],\n",
       "           [126, 125, 125,  ..., 130, 133, 121],\n",
       "           [125, 125, 125,  ..., 130, 130, 121]],\n",
       " \n",
       "          [[ 80,  77,  74,  ..., 101, 101, 102],\n",
       "           [ 81,  77,  75,  ..., 102, 103, 103],\n",
       "           [ 78,  75,  74,  ..., 103, 103, 104],\n",
       "           ...,\n",
       "           [127, 127, 126,  ..., 120, 122, 115],\n",
       "           [126, 126, 126,  ..., 133, 135, 123],\n",
       "           [126, 125, 125,  ..., 132, 133, 123]],\n",
       " \n",
       "          [[ 80,  77,  74,  ..., 101, 101, 102],\n",
       "           [ 81,  77,  75,  ..., 102, 103, 103],\n",
       "           [ 78,  75,  74,  ..., 103, 103, 103],\n",
       "           ...,\n",
       "           [126, 126, 127,  ..., 112, 114, 108],\n",
       "           [126, 125, 125,  ..., 127, 129, 117],\n",
       "           [125, 125, 125,  ..., 127, 128, 117]]]], dtype=torch.uint8),\n",
       " tensor([[[0.00000e+00, 6.00000e+01, 4.24407e-01, 1.09666e-01, 7.90200e-01, 2.09856e-01],\n",
       "          [0.00000e+00, 3.80000e+01, 9.67498e-01, 8.33112e-01, 6.26192e-02, 1.83030e-01],\n",
       "          [0.00000e+00, 6.00000e+01, 8.52256e-01, 1.52727e-01, 2.87981e-01, 3.01358e-01],\n",
       "          ...,\n",
       "          [1.50000e+01, 1.10000e+01, 3.66482e-01, 6.08764e-01, 1.55067e-01, 1.55343e-01],\n",
       "          [1.50000e+01, 6.00000e+00, 5.72371e-01, 6.39928e-01, 2.10919e-01, 5.26126e-02],\n",
       "          [1.50000e+01, 1.60000e+01, 3.81013e-01, 7.77916e-01, 1.28342e-01, 1.77401e-01]],\n",
       " \n",
       "         [[0.00000e+00, 6.00000e+01, 4.24407e-01, 1.09666e-01, 7.90200e-01, 2.09856e-01],\n",
       "          [0.00000e+00, 3.80000e+01, 9.67498e-01, 8.33112e-01, 6.26192e-02, 1.83030e-01],\n",
       "          [0.00000e+00, 6.00000e+01, 8.52256e-01, 1.52727e-01, 2.87981e-01, 3.01358e-01],\n",
       "          ...,\n",
       "          [1.50000e+01, 1.10000e+01, 3.66482e-01, 6.08764e-01, 1.55067e-01, 1.55343e-01],\n",
       "          [1.50000e+01, 6.00000e+00, 5.72371e-01, 6.39928e-01, 2.10919e-01, 5.26126e-02],\n",
       "          [1.50000e+01, 1.60000e+01, 3.81013e-01, 7.77916e-01, 1.28342e-01, 1.77401e-01]]]),\n",
       " ['/home/hungnq/hungnq_2/yolov7/coco/images/test2017/000000000001.jpg',\n",
       "  '/home/hungnq/hungnq_2/yolov7/coco/images/test2017/000000000016.jpg',\n",
       "  '/home/hungnq/hungnq_2/yolov7/coco/images/test2017/000000000019.jpg',\n",
       "  '/home/hungnq/hungnq_2/yolov7/coco/images/test2017/000000000057.jpg',\n",
       "  '/home/hungnq/hungnq_2/yolov7/coco/images/test2017/000000000063.jpg',\n",
       "  '/home/hungnq/hungnq_2/yolov7/coco/images/test2017/000000000069.jpg',\n",
       "  '/home/hungnq/hungnq_2/yolov7/coco/images/test2017/000000000080.jpg',\n",
       "  '/home/hungnq/hungnq_2/yolov7/coco/images/test2017/000000000090.jpg',\n",
       "  '/home/hungnq/hungnq_2/yolov7/coco/images/test2017/000000000106.jpg',\n",
       "  '/home/hungnq/hungnq_2/yolov7/coco/images/test2017/000000000108.jpg',\n",
       "  '/home/hungnq/hungnq_2/yolov7/coco/images/test2017/000000000128.jpg',\n",
       "  '/home/hungnq/hungnq_2/yolov7/coco/images/test2017/000000000155.jpg',\n",
       "  '/home/hungnq/hungnq_2/yolov7/coco/images/test2017/000000000161.jpg',\n",
       "  '/home/hungnq/hungnq_2/yolov7/coco/images/test2017/000000000171.jpg',\n",
       "  '/home/hungnq/hungnq_2/yolov7/coco/images/test2017/000000000178.jpg',\n",
       "  '/home/hungnq/hungnq_2/yolov7/coco/images/test2017/000000000180.jpg'],\n",
       " [None,\n",
       "  None,\n",
       "  None,\n",
       "  None,\n",
       "  None,\n",
       "  None,\n",
       "  None,\n",
       "  None,\n",
       "  None,\n",
       "  None,\n",
       "  None,\n",
       "  None,\n",
       "  None,\n",
       "  None,\n",
       "  None,\n",
       "  None]]"
      ]
     },
     "execution_count": 5,
     "metadata": {},
     "output_type": "execute_result"
    }
   ],
   "source": [
    "next(iter(dataloader))"
   ]
  }
 ],
 "metadata": {
  "kernelspec": {
   "display_name": "torch",
   "language": "python",
   "name": "python3"
  },
  "language_info": {
   "codemirror_mode": {
    "name": "ipython",
    "version": 3
   },
   "file_extension": ".py",
   "mimetype": "text/x-python",
   "name": "python",
   "nbconvert_exporter": "python",
   "pygments_lexer": "ipython3",
   "version": "3.10.12"
  }
 },
 "nbformat": 4,
 "nbformat_minor": 2
}
